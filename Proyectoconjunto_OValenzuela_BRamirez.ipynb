{
 "cells": [
  {
   "cell_type": "markdown",
   "metadata": {},
   "source": [
    "<img style=\"float: left; margin: 30px 15px 15px 15px;\" src=\"https://pngimage.net/wp-content/uploads/2018/06/logo-iteso-png-5.png\" width=\"300\" height=\"500\" /> \n",
    "    \n",
    "    \n",
    "### <font color='navy'> Simulación de procesos financieros. \n",
    "\n",
    "**Nombres:** Osckar Valenzuela Cervantes y Bernardo Ramirez Gonzales.\n",
    "\n",
    "**Fecha:**31 de Enero del 2023.\n",
    "\n",
    "**Expediente** :749803 y 724671.\n",
    "**Profesor:** Oscar David Jaramillo Zuluaga.\n",
    "    \n",
    "**Link Github**: https://github.com/Osckar11/proyectoconjunto1_OValenzuela_BRamirez.git\n",
    "\n",
    "# Tarea 1: Clase 3"
   ]
  },
  {
   "cell_type": "markdown",
   "metadata": {},
   "source": [
    "## Enunciado de tarea \n",
    "1.  El archivo debe realizarse en parejas y sólo uno de los dos debe crear en su cuenta de *Github* un repositorio con el nombre **ProyectoConjunto\\_APELLIDO1\\_APELLIDO2**. A la persona que creó el repositorio la llamaremos (ESTUDIANTE 1 ). El APELLIDO se debe de escribir (Iniciales del nombre y primer apellido), por ejemplo si yo creara el archivo lo debería de nombrar *ProyectoConjunto\\_ODJaramillo*. \n",
    "1.  Posteriormente, desde la cuenta del (ESTUDIANTE 2), 'aquel que no creó el repositorio anterior', ingresar al perfil del ESTUDIANTE 1 y en el repositorio creado en el paso 1, realizar un \"fork\" de este repositorio en su perfil, y además realizar los pasos en Gitkraken para hacer dicho repositorio \"Remoto (REMOTE)\" VER DICHO PROCEDIMIENTO EN LA CLASE **Clase2_GitTurorial2**.\n",
    "1.  Luego de realizados los pasos 1 y 2, el ESTUDIANTE 1 y ESTUDIANTE 2, desde su computador realizar un *clone* del repositorio creado en el numeral 1 en la carpeta que cada quién haya asignado para el curso en su computador. \n",
    "1.  Luego desde Jupyter el ESTUDIANTE 1, crea un nuevo ``notebook`` en el repositorio del paso 3. \n",
    "1.  En este nuevo notebook el ESTUDIANTE 1 y ESTUDIANTE 2, deben realizar una presentación describiendo sus expectativas del curso y la transcipción de la Figura 1 y Figura 2 respectivamente, haciendo uso de la sintaxis Markdown. Recuerden definir unas celdas donde cada usuario modificará el cuaderno de python para evitar futuros conflictos. \n",
    "6. Cuando ya se encuentre el proyecto conjunto con la información del ESTUDIANTE 1 y ESTUDIANTE 2, el ``ESTUDIANTE 2``  debe de realizar un `pull request` con las modificaciones realizadas a el `ESTUDIANTE 1` para que este realice un merge a la rama `master`, con las moficaciones propuestas por el `ESTUDIANTE 2`, TAL Y CÓMO SE REALIZÓ EN CLASE. (Recuerden que los pull request se generan en *Gitkraken* y se administran los comentarios o cambios propuestos por su compañero desde *Github* ver `Clase1_GitTurorial` para aclaración de dudas, donde se explica cómo crear *branch y pull request*)\n",
    "7. Luego de culminado los pasos anteriores, el ESTUDIANTE 1,realizará un programa que imprima la serie de fibonacci para sus primeros 100 términos en un array de python,usando la rama “master” del repositorio creado. Por otro lado, el ESTUDIANTE 2,creando un “branch” llamado `ejerPrograma`, generará un programa que muestre los números primos del 0-100. Luego de que el ESTUDIANTE 2 haya terminado su programa, debe de realizar un “pull request” al ESTUDIANTE 1, **ANTES** de hacer un “merge” de la rama `ejerPrograma` en el proyecto principal (“master”). Luego de realizado estos pasos **NO BORRAR LA RAMA CREADA (`ejerPrograma`)**"
   ]
  },
  {
   "cell_type": "markdown",
   "metadata": {},
   "source": [
    "### Ejercicio 1: (enunciado) Transcribirlo"
   ]
  },
  {
   "cell_type": "markdown",
   "metadata": {},
   "source": [
    "Código de solución estudiante 1"
   ]
  },
  {
   "cell_type": "markdown",
   "metadata": {},
   "source": [
    "### Mis expectativas del curso (Osckar) \n",
    "Espero que este curso ayude a mis habilidades en la programacion, pudiendo utilizar todas las herramientas aportadas por mi profesor.\n",
    "creo que es un curso lleno de nuevos concociminetos y con un docente que maneja los temas de forma sencilla y entendibles para mi.\n",
    "sin embargo creo que no sera un procesos rapido si no que sera algo con cierta cantidad de timepo y dificultades."
   ]
  },
  {
   "cell_type": "markdown",
   "metadata": {},
   "source": [
    "\n",
    "|$$ {\\large {i}} $$\t|$$ {\\large {x}} $$|$$ {\\large {f(x)}} $$\t|   \t|   \t|\n",
    "|:---:\t|:----:\t|:-------:\t|:---:\t|:---:\t|\n",
    "| $$ {\\large {0}} $$ \t| $$ {\\large {-1}} $$\t| $$ {\\large {.3678}} $$ \t|   \t|   \t|\n",
    "|  <span style=\"color:red\">$$ {\\large {1}} $$</span> \t| <span style=\"color:red\">$${\\large {-0.5}} $$</span> \t| <span style=\"color:red\">$${\\large {.7788}} $$</span>    \t|   \t|   \t|\n",
    "|  <span style=\"color:blue\">$${\\large { 2 }}$$</span> \t|  <span style=\"color:blue\">$${\\large { 0 }} $$</span>\t|     <span style=\"color:blue\">$${\\large { 1 }}$$</span>  \t|   \t|   \t|\n",
    "|  <span style=\"color:red\">$${\\large { 3 }}$$</span> \t| <span style=\"color:red\">$${\\large {-0.5}} $$</span> \t| <span style=\"color:red\">$${\\large {.7788}} $$</span>    \t|   \t|   \t|\n",
    "| $${\\large { 4 }}$$\t| $${\\large { 1 }}$$ \t|  $${\\large { .3678 }}$$\t|   \t|   \t|\n",
    "\n",
    "$$\n",
    "\\text{Cuadro 1: Tabla de valores de f(x)}\n",
    "$$\n",
    "\n",
    "$$\n",
    "\\begin{align}\n",
    "\\int_{-1}^1 e^{-x^2}dx\\approx \\frac{0,5}{3}[f(-1)+f(1)+4(\\color{red}{f(-0,5)+f(0,5)}) + 2 \\color{blue}{f(0)}]\\\\\n",
    "                     \\approx \\frac{0,5}{3}[0,3678+0,3678+4(\\color{red}{0,7788+0,778}) + 2\\cdot \\color{blue}{1}]\\approx 1,4943\n",
    "\\end{align}\n",
    "$$\n",
    "\n",
    "$$\n",
    "\\text{A modo de verificación, se calculará por software, el valor del área para n= 100, un valor mucho}\\\\ \\text{más elevado al que se utilizó anteriormente. Si lo calculado previamente es correcto, se esperaría que}\\\\ \\text{sea próximo al valor presentado a continuación para ser una buena aproximación.}\n",
    "$$\n",
    "$$\n",
    "\\int_{-1}^1 e^{-x^2}dx\\approx 1,4936\n",
    "$$"
   ]
  },
  {
   "cell_type": "code",
   "execution_count": 1,
   "metadata": {},
   "outputs": [
    {
     "data": {
      "text/plain": [
       "[0,\n",
       " 1,\n",
       " 1,\n",
       " 2,\n",
       " 3,\n",
       " 5,\n",
       " 8,\n",
       " 13,\n",
       " 21,\n",
       " 34,\n",
       " 55,\n",
       " 89,\n",
       " 144,\n",
       " 233,\n",
       " 377,\n",
       " 610,\n",
       " 987,\n",
       " 1597,\n",
       " 2584,\n",
       " 4181,\n",
       " 6765,\n",
       " 10946,\n",
       " 17711,\n",
       " 28657,\n",
       " 46368,\n",
       " 75025,\n",
       " 121393,\n",
       " 196418,\n",
       " 317811,\n",
       " 514229,\n",
       " 832040,\n",
       " 1346269,\n",
       " 2178309,\n",
       " 3524578,\n",
       " 5702887,\n",
       " 9227465,\n",
       " 14930352,\n",
       " 24157817,\n",
       " 39088169,\n",
       " 63245986,\n",
       " 102334155,\n",
       " 165580141,\n",
       " 267914296,\n",
       " 433494437,\n",
       " 701408733,\n",
       " 1134903170,\n",
       " 1836311903,\n",
       " 2971215073,\n",
       " 4807526976,\n",
       " 7778742049,\n",
       " 12586269025,\n",
       " 20365011074,\n",
       " 32951280099,\n",
       " 53316291173,\n",
       " 86267571272,\n",
       " 139583862445,\n",
       " 225851433717,\n",
       " 365435296162,\n",
       " 591286729879,\n",
       " 956722026041,\n",
       " 1548008755920,\n",
       " 2504730781961,\n",
       " 4052739537881,\n",
       " 6557470319842,\n",
       " 10610209857723,\n",
       " 17167680177565,\n",
       " 27777890035288,\n",
       " 44945570212853,\n",
       " 72723460248141,\n",
       " 117669030460994,\n",
       " 190392490709135,\n",
       " 308061521170129,\n",
       " 498454011879264,\n",
       " 806515533049393,\n",
       " 1304969544928657,\n",
       " 2111485077978050,\n",
       " 3416454622906707,\n",
       " 5527939700884757,\n",
       " 8944394323791464,\n",
       " 14472334024676221,\n",
       " 23416728348467685,\n",
       " 37889062373143906,\n",
       " 61305790721611591,\n",
       " 99194853094755497,\n",
       " 160500643816367088,\n",
       " 259695496911122585,\n",
       " 420196140727489673,\n",
       " 679891637638612258,\n",
       " 1100087778366101931,\n",
       " 1779979416004714189,\n",
       " 2880067194370816120,\n",
       " 4660046610375530309,\n",
       " 7540113804746346429,\n",
       " 12200160415121876738,\n",
       " 19740274219868223167,\n",
       " 31940434634990099905,\n",
       " 51680708854858323072,\n",
       " 83621143489848422977,\n",
       " 135301852344706746049,\n",
       " 218922995834555169026]"
      ]
     },
     "execution_count": 1,
     "metadata": {},
     "output_type": "execute_result"
    }
   ],
   "source": [
    "num= 100\n",
    "int(num)\n",
    "fibo= [0,1] \n",
    "primer= fibo[0]\n",
    "segundo= fibo[1]\n",
    "suma=0\n",
    "for n in range(num-2):\n",
    "    fibo.append(primer+segundo)\n",
    "    suma=primer+segundo\n",
    "    primer=segundo\n",
    "    segundo=suma\n",
    "fibo"
   ]
  },
  {
   "cell_type": "markdown",
   "metadata": {},
   "source": [
    "## Código de solución estudiante 2\n",
    "\n",
    "### Expectativas del curso\n",
    "\n",
    "Recordar el uso de python y que me ayude a mi eficacia en la programación así como en el conocimiento de modelos estadísticos de predicción y conclusión para la resolución de problemas. También además de ya haber aprendido la herramienta de github, quiero aprender nuevas herramientas y lenguajes para poder ser lo más versátil posible.\n"
   ]
  },
  {
   "cell_type": "markdown",
   "metadata": {},
   "source": [
    "\n",
    "|     $i$     |  1  |  2 |  3  | 4  | 5 | 6 | 7 |\n",
    "|-------------|-----|----|-----|----|---|---|---|\n",
    "|$E_i(V)$     | 12  | 10 | 24  | 12 | - | - | - |\n",
    "|$r_i(\\Omega)$| 0.1 | 0.5| 0.2 | 0.5| - | - | - |\n",
    "|$R_i(\\Omega)$| 25  | 40 | 16  | 20 | 9 | 4 | 20|\n"
   ]
  },
  {
   "cell_type": "markdown",
   "metadata": {},
   "source": [
    "<font color = blue>Kemma y vorst (1990)</font> muestran que las opciones asiáticas con media geométrica continua se pueden valuar con el mismo enfoque de las opciones *plain vanilla*; solo se beben cambiar los parásmetros de volatilidad $\\sigma$ por $\\sigma_a$, y el costo de acarreo $b$ por $b_A$.\n",
    "De acuerdo con Kemma y Vorst, las formulas para evaluar una opcion de compra y una opcion de venta son:\n",
    "$$ c \\approx S_t e^{(b_A-r)(T-t)} \\Phi (d_1) - K_e^{-r(T-t)} \\Phi (d_2),$$\n",
    "$$ p \\approx K_e^{-r(T-t)} \\Phi (-d_2) -S_t e^{(b_A-r)(T-t)} \\Phi (-d_1).$$\n",
    "con $d_1$ y $d_2$ dados por:\n",
    "$$ d_1 = {ln(S_t/K) + (b_A + 1 / 2\\sigma_a^{2})(T-t)\n",
    "\\over \\sigma \\sqrt{T-t}},$$\n",
    "$$ d_2 = d_1 - \\sigma_a\\sqrt{T-t}.$$\n",
    "La funcion $\\phi(d)$ es la funcion de dsitribución acumulada de $E\\sim N(0,1).$ La volatilidad ajustada es igual a:\n",
    "$$\\sigma_a = {\\sigma \\over \\sqrt{3}}$$\n",
    "miestras que el costo de acarreo ajustado es:\n",
    "$$ b_A = {1 \\over 2}\\bigg(v-{\\sigma^2 \\over 6}\\bigg)$$\n"
   ]
  },
  {
   "cell_type": "code",
   "execution_count": 14,
   "metadata": {},
   "outputs": [
    {
     "name": "stdout",
     "output_type": "stream",
     "text": [
      "  2  3  5  7  11  13  17  19  23  29  31  37  41  43  47  53  59  61  67  71  73  79  83  89  97\n",
      "Hay 25 números primos.\n"
     ]
    }
   ],
   "source": [
    "lista = 100\n",
    "cont = 0\n",
    "for i in range(2, lista + 1):\n",
    "    primos = True\n",
    "    for j in range(2,i):\n",
    "        if i == j:\n",
    "           break\n",
    "        elif i%j == 0:\n",
    "           primos = False\n",
    "        else:\n",
    "           continue\n",
    "    if primos == True:\n",
    "        print(' ',i, end='')\n",
    "        cont += 1\n",
    "print('\\nHay %u números primos.' % cont )"
   ]
  },
  {
   "cell_type": "markdown",
   "metadata": {},
   "source": []
  }
 ],
 "metadata": {
  "kernelspec": {
   "display_name": "Python 3 (ipykernel)",
   "language": "python",
   "name": "python3"
  },
  "language_info": {
   "codemirror_mode": {
    "name": "ipython",
    "version": 3
   },
   "file_extension": ".py",
   "mimetype": "text/x-python",
   "name": "python",
   "nbconvert_exporter": "python",
   "pygments_lexer": "ipython3",
   "version": "3.9.13"
  }
 },
 "nbformat": 4,
 "nbformat_minor": 2
}
